{
 "cells": [
  {
   "cell_type": "code",
   "execution_count": 1,
   "metadata": {},
   "outputs": [
    {
     "name": "stdout",
     "output_type": "stream",
     "text": [
      "WARNING:tensorflow:From C:\\Users\\asus\\AppData\\Roaming\\Python\\Python310\\site-packages\\keras\\src\\losses.py:2976: The name tf.losses.sparse_softmax_cross_entropy is deprecated. Please use tf.compat.v1.losses.sparse_softmax_cross_entropy instead.\n",
      "\n"
     ]
    }
   ],
   "source": [
    "import cv2\n",
    "from keras.models import Sequential\n",
    "from keras.layers import Conv2D, MaxPooling2D, Dense, Dropout, Flatten\n",
    "from tensorflow.keras.optimizers import Adam\n",
    "from keras.preprocessing.image import ImageDataGenerator"
   ]
  },
  {
   "cell_type": "code",
   "execution_count": 2,
   "metadata": {},
   "outputs": [],
   "source": [
    "#pretraitement (mise à echelle (divise chaque pisel/255 bech trodhom f [0,1]))\n",
    "#définit les transformations à appliquer lorsqu'elle sont chargées(recette)\n",
    "#trodhom tensors =>normalisation /(najmou namloulhom augmentation)\n",
    "train_data_gen = ImageDataGenerator(rescale=1./255)\n",
    "validation_data_gen = ImageDataGenerator(rescale=1./255)\n"
   ]
  },
  {
   "cell_type": "code",
   "execution_count": 3,
   "metadata": {},
   "outputs": [
    {
     "name": "stdout",
     "output_type": "stream",
     "text": [
      "Found 28709 images belonging to 7 classes.\n"
     ]
    }
   ],
   "source": [
    "#lit les imgs , redimensionne,cree la taille du batch , convertir en niv de gris,\n",
    "#genere des etiquettes pour chaque classe en fct de la structure du repertoire\n",
    "train_generator = train_data_gen.flow_from_directory(\n",
    "        'data/train',\n",
    "        target_size=(48, 48),#les imgs sont redimensionner 48*48\n",
    "        batch_size=64,\n",
    "        color_mode=\"grayscale\",\n",
    "        class_mode='categorical')"
   ]
  },
  {
   "cell_type": "code",
   "execution_count": 4,
   "metadata": {},
   "outputs": [
    {
     "name": "stdout",
     "output_type": "stream",
     "text": [
      "Found 7178 images belonging to 7 classes.\n"
     ]
    }
   ],
   "source": [
    "validation_generator = validation_data_gen.flow_from_directory(\n",
    "        'data/test',\n",
    "        target_size=(48, 48),\n",
    "        batch_size=64,\n",
    "        color_mode=\"grayscale\",\n",
    "        class_mode='categorical')"
   ]
  },
  {
   "cell_type": "code",
   "execution_count": 7,
   "metadata": {},
   "outputs": [
    {
     "name": "stdout",
     "output_type": "stream",
     "text": [
      "Model: \"sequential_1\"\n",
      "_________________________________________________________________\n",
      " Layer (type)                Output Shape              Param #   \n",
      "=================================================================\n",
      " conv2d_4 (Conv2D)           (None, 46, 46, 32)        320       \n",
      "                                                                 \n",
      " conv2d_5 (Conv2D)           (None, 44, 44, 64)        18496     \n",
      "                                                                 \n",
      " max_pooling2d_3 (MaxPoolin  (None, 22, 22, 64)        0         \n",
      " g2D)                                                            \n",
      "                                                                 \n",
      " dropout_3 (Dropout)         (None, 22, 22, 64)        0         \n",
      "                                                                 \n",
      " conv2d_6 (Conv2D)           (None, 20, 20, 128)       73856     \n",
      "                                                                 \n",
      " max_pooling2d_4 (MaxPoolin  (None, 10, 10, 128)       0         \n",
      " g2D)                                                            \n",
      "                                                                 \n",
      " conv2d_7 (Conv2D)           (None, 8, 8, 128)         147584    \n",
      "                                                                 \n",
      " max_pooling2d_5 (MaxPoolin  (None, 4, 4, 128)         0         \n",
      " g2D)                                                            \n",
      "                                                                 \n",
      " dropout_4 (Dropout)         (None, 4, 4, 128)         0         \n",
      "                                                                 \n",
      " flatten_1 (Flatten)         (None, 2048)              0         \n",
      "                                                                 \n",
      " dense_2 (Dense)             (None, 1024)              2098176   \n",
      "                                                                 \n",
      " dropout_5 (Dropout)         (None, 1024)              0         \n",
      "                                                                 \n",
      " dense_3 (Dense)             (None, 7)                 7175      \n",
      "                                                                 \n",
      "=================================================================\n",
      "Total params: 2345607 (8.95 MB)\n",
      "Trainable params: 2345607 (8.95 MB)\n",
      "Non-trainable params: 0 (0.00 Byte)\n",
      "_________________________________________________________________\n",
      "None\n"
     ]
    }
   ],
   "source": [
    "from tensorflow.keras.callbacks import LearningRateScheduler\n",
    "#epoche : nbre d'iteration d'entrainement\n",
    "emotion_model = Sequential()\n",
    "\n",
    "emotion_model.add(Conv2D(32, kernel_size=(3, 3), activation='relu', input_shape=(48, 48, 1)))\n",
    "emotion_model.add(Conv2D(64, kernel_size=(3, 3), activation='relu'))\n",
    "emotion_model.add(MaxPooling2D(pool_size=(2, 2)))\n",
    "emotion_model.add(Dropout(0.25))\n",
    "\n",
    "emotion_model.add(Conv2D(128, kernel_size=(3, 3), activation='relu'))\n",
    "emotion_model.add(MaxPooling2D(pool_size=(2, 2)))\n",
    "emotion_model.add(Conv2D(128, kernel_size=(3, 3), activation='relu'))\n",
    "emotion_model.add(MaxPooling2D(pool_size=(2, 2)))\n",
    "emotion_model.add(Dropout(0.25))\n",
    "\n",
    "emotion_model.add(Flatten())\n",
    "emotion_model.add(Dense(1024, activation='relu'))\n",
    "emotion_model.add(Dropout(0.5))\n",
    "emotion_model.add(Dense(7, activation='softmax'))\n",
    "\n",
    "print(emotion_model.summary())\n",
    "\n",
    "#cv2.ocl.setUseOpenCL(False)\n",
    "#learning rate :vitesse à laquelle votre modèle apprend.\n",
    "#la taille des pas que votre modèle fait pour ajuster ses poids pendant l’entraînement.\n",
    "# def lr_schedule(epoch):\n",
    "#      \"\"\"\n",
    "#      Learning Rate Schedule\n",
    "#      \"\"\"\n",
    "#      initial_lr = 0.0001\n",
    "# #     #un facteur de décroissance de 0.1.\n",
    "#      decay = 0.1\n",
    "# #     #plus l’époque augmente, plus le taux d’apprentissage diminue.\n",
    "#      lr = initial_lr * (decay ** epoch)\n",
    "#      return lr\n",
    "\n",
    "# # # Define the learning rate scheduler\n",
    "# lr_scheduler = LearningRateScheduler(lr_schedule)\n",
    "\n",
    "# Compile the model with Adam optimizer\n",
    "emotion_model.compile(loss='categorical_crossentropy', optimizer=Adam(), metrics=['accuracy'])"
   ]
  },
  {
   "cell_type": "code",
   "execution_count": 16,
   "metadata": {},
   "outputs": [
    {
     "name": "stderr",
     "output_type": "stream",
     "text": [
      "C:\\Users\\asus\\AppData\\Local\\Temp\\ipykernel_1412\\690059962.py:3: UserWarning: `Model.fit_generator` is deprecated and will be removed in a future version. Please use `Model.fit`, which supports generators.\n",
      "  emotion_model_info = emotion_model.fit_generator(\n"
     ]
    },
    {
     "name": "stdout",
     "output_type": "stream",
     "text": [
      "Epoch 1/50\n",
      "448/448 [==============================] - 100s 223ms/step - loss: 0.5419 - accuracy: 0.8009 - val_loss: 1.1694 - val_accuracy: 0.6198\n",
      "Epoch 2/50\n",
      "448/448 [==============================] - 87s 194ms/step - loss: 0.5313 - accuracy: 0.8051 - val_loss: 1.1720 - val_accuracy: 0.6143\n",
      "Epoch 3/50\n",
      "448/448 [==============================] - 100s 224ms/step - loss: 0.5226 - accuracy: 0.8054 - val_loss: 1.1495 - val_accuracy: 0.6217\n",
      "Epoch 4/50\n",
      "448/448 [==============================] - 113s 252ms/step - loss: 0.5123 - accuracy: 0.8125 - val_loss: 1.1595 - val_accuracy: 0.6247\n",
      "Epoch 5/50\n",
      "448/448 [==============================] - 118s 264ms/step - loss: 0.5009 - accuracy: 0.8164 - val_loss: 1.1488 - val_accuracy: 0.6200\n",
      "Epoch 6/50\n",
      "448/448 [==============================] - 115s 255ms/step - loss: 0.4937 - accuracy: 0.8205 - val_loss: 1.1719 - val_accuracy: 0.6164\n",
      "Epoch 7/50\n",
      "448/448 [==============================] - 106s 235ms/step - loss: 0.5005 - accuracy: 0.8177 - val_loss: 1.1749 - val_accuracy: 0.6236\n",
      "Epoch 8/50\n",
      "448/448 [==============================] - 103s 230ms/step - loss: 0.4907 - accuracy: 0.8206 - val_loss: 1.1878 - val_accuracy: 0.6212\n",
      "Epoch 9/50\n",
      "448/448 [==============================] - 104s 233ms/step - loss: 0.4805 - accuracy: 0.8254 - val_loss: 1.2087 - val_accuracy: 0.6177\n",
      "Epoch 10/50\n",
      "448/448 [==============================] - 106s 236ms/step - loss: 0.4733 - accuracy: 0.8260 - val_loss: 1.2255 - val_accuracy: 0.6184\n",
      "Epoch 11/50\n",
      "448/448 [==============================] - 102s 227ms/step - loss: 0.4758 - accuracy: 0.8292 - val_loss: 1.1743 - val_accuracy: 0.6190\n",
      "Epoch 12/50\n",
      "448/448 [==============================] - 104s 231ms/step - loss: 0.4656 - accuracy: 0.8332 - val_loss: 1.1951 - val_accuracy: 0.6233\n",
      "Epoch 13/50\n",
      "448/448 [==============================] - 96s 214ms/step - loss: 0.4581 - accuracy: 0.8361 - val_loss: 1.1890 - val_accuracy: 0.6198\n",
      "Epoch 14/50\n",
      "448/448 [==============================] - 92s 206ms/step - loss: 0.4494 - accuracy: 0.8358 - val_loss: 1.2423 - val_accuracy: 0.6263\n",
      "Epoch 15/50\n",
      "448/448 [==============================] - 95s 213ms/step - loss: 0.4438 - accuracy: 0.8411 - val_loss: 1.2156 - val_accuracy: 0.6232\n",
      "Epoch 16/50\n",
      "448/448 [==============================] - 103s 229ms/step - loss: 0.4420 - accuracy: 0.8401 - val_loss: 1.2159 - val_accuracy: 0.6278\n",
      "Epoch 17/50\n",
      "448/448 [==============================] - 100s 222ms/step - loss: 0.4238 - accuracy: 0.8474 - val_loss: 1.2063 - val_accuracy: 0.6164\n",
      "Epoch 18/50\n",
      "448/448 [==============================] - 97s 216ms/step - loss: 0.4280 - accuracy: 0.8457 - val_loss: 1.2734 - val_accuracy: 0.6219\n",
      "Epoch 19/50\n",
      "448/448 [==============================] - 95s 213ms/step - loss: 0.4288 - accuracy: 0.8469 - val_loss: 1.2240 - val_accuracy: 0.6215\n",
      "Epoch 20/50\n",
      "448/448 [==============================] - 97s 217ms/step - loss: 0.4279 - accuracy: 0.8449 - val_loss: 1.2777 - val_accuracy: 0.6191\n",
      "Epoch 21/50\n",
      "448/448 [==============================] - 97s 217ms/step - loss: 0.4201 - accuracy: 0.8478 - val_loss: 1.2177 - val_accuracy: 0.6318\n",
      "Epoch 22/50\n",
      "448/448 [==============================] - 98s 218ms/step - loss: 0.4136 - accuracy: 0.8505 - val_loss: 1.2165 - val_accuracy: 0.6212\n",
      "Epoch 23/50\n",
      "448/448 [==============================] - 97s 217ms/step - loss: 0.4039 - accuracy: 0.8543 - val_loss: 1.2299 - val_accuracy: 0.6236\n",
      "Epoch 24/50\n",
      "448/448 [==============================] - 92s 204ms/step - loss: 0.4024 - accuracy: 0.8533 - val_loss: 1.2561 - val_accuracy: 0.6211\n",
      "Epoch 25/50\n",
      "448/448 [==============================] - 93s 206ms/step - loss: 0.4069 - accuracy: 0.8543 - val_loss: 1.3269 - val_accuracy: 0.6151\n",
      "Epoch 26/50\n",
      "448/448 [==============================] - 95s 212ms/step - loss: 0.3900 - accuracy: 0.8608 - val_loss: 1.3074 - val_accuracy: 0.6223\n",
      "Epoch 27/50\n",
      "448/448 [==============================] - 97s 217ms/step - loss: 0.3826 - accuracy: 0.8635 - val_loss: 1.2615 - val_accuracy: 0.6271\n",
      "Epoch 28/50\n",
      "448/448 [==============================] - 94s 209ms/step - loss: 0.3909 - accuracy: 0.8612 - val_loss: 1.2228 - val_accuracy: 0.6190\n",
      "Epoch 29/50\n",
      "448/448 [==============================] - 93s 208ms/step - loss: 0.3869 - accuracy: 0.8615 - val_loss: 1.2791 - val_accuracy: 0.6254\n",
      "Epoch 30/50\n",
      "448/448 [==============================] - 93s 208ms/step - loss: 0.3840 - accuracy: 0.8649 - val_loss: 1.3067 - val_accuracy: 0.6218\n",
      "Epoch 31/50\n",
      "448/448 [==============================] - 94s 210ms/step - loss: 0.3768 - accuracy: 0.8647 - val_loss: 1.3059 - val_accuracy: 0.6214\n",
      "Epoch 32/50\n",
      "448/448 [==============================] - 91s 202ms/step - loss: 0.3788 - accuracy: 0.8648 - val_loss: 1.2630 - val_accuracy: 0.6177\n",
      "Epoch 33/50\n",
      "448/448 [==============================] - 95s 211ms/step - loss: 0.3608 - accuracy: 0.8714 - val_loss: 1.2917 - val_accuracy: 0.6179\n",
      "Epoch 34/50\n",
      "448/448 [==============================] - 90s 200ms/step - loss: 0.3705 - accuracy: 0.8681 - val_loss: 1.3527 - val_accuracy: 0.6211\n",
      "Epoch 35/50\n",
      "448/448 [==============================] - 91s 203ms/step - loss: 0.3592 - accuracy: 0.8731 - val_loss: 1.3029 - val_accuracy: 0.6201\n",
      "Epoch 36/50\n",
      "448/448 [==============================] - 89s 197ms/step - loss: 0.3518 - accuracy: 0.8719 - val_loss: 1.3218 - val_accuracy: 0.6173\n",
      "Epoch 37/50\n",
      "448/448 [==============================] - 91s 202ms/step - loss: 0.3474 - accuracy: 0.8765 - val_loss: 1.3034 - val_accuracy: 0.6182\n",
      "Epoch 38/50\n",
      "448/448 [==============================] - 90s 201ms/step - loss: 0.3468 - accuracy: 0.8763 - val_loss: 1.3285 - val_accuracy: 0.6120\n",
      "Epoch 39/50\n",
      "448/448 [==============================] - 89s 200ms/step - loss: 0.3515 - accuracy: 0.8760 - val_loss: 1.3694 - val_accuracy: 0.6210\n",
      "Epoch 40/50\n",
      "448/448 [==============================] - 91s 204ms/step - loss: 0.3500 - accuracy: 0.8774 - val_loss: 1.3075 - val_accuracy: 0.6198\n",
      "Epoch 41/50\n",
      "448/448 [==============================] - 88s 197ms/step - loss: 0.3407 - accuracy: 0.8781 - val_loss: 1.3196 - val_accuracy: 0.6165\n",
      "Epoch 42/50\n",
      "448/448 [==============================] - 89s 199ms/step - loss: 0.3428 - accuracy: 0.8799 - val_loss: 1.3109 - val_accuracy: 0.6230\n",
      "Epoch 43/50\n",
      "448/448 [==============================] - 90s 201ms/step - loss: 0.3389 - accuracy: 0.8813 - val_loss: 1.3574 - val_accuracy: 0.6197\n",
      "Epoch 44/50\n",
      "448/448 [==============================] - 89s 199ms/step - loss: 0.3417 - accuracy: 0.8811 - val_loss: 1.2921 - val_accuracy: 0.6218\n",
      "Epoch 45/50\n",
      "448/448 [==============================] - 91s 204ms/step - loss: 0.3310 - accuracy: 0.8829 - val_loss: 1.3354 - val_accuracy: 0.6253\n",
      "Epoch 46/50\n",
      "448/448 [==============================] - 91s 203ms/step - loss: 0.3269 - accuracy: 0.8853 - val_loss: 1.3625 - val_accuracy: 0.6210\n",
      "Epoch 47/50\n",
      "448/448 [==============================] - 91s 204ms/step - loss: 0.3323 - accuracy: 0.8825 - val_loss: 1.3698 - val_accuracy: 0.6157\n",
      "Epoch 48/50\n",
      "448/448 [==============================] - 92s 206ms/step - loss: 0.3286 - accuracy: 0.8843 - val_loss: 1.3739 - val_accuracy: 0.6223\n",
      "Epoch 49/50\n",
      "448/448 [==============================] - 90s 201ms/step - loss: 0.3142 - accuracy: 0.8872 - val_loss: 1.3900 - val_accuracy: 0.6215\n",
      "Epoch 50/50\n",
      "448/448 [==============================] - 93s 208ms/step - loss: 0.3194 - accuracy: 0.8870 - val_loss: 1.4322 - val_accuracy: 0.6210\n"
     ]
    }
   ],
   "source": [
    "import scipy as sp\n",
    "\n",
    "emotion_model_info = emotion_model.fit_generator(\n",
    "        train_generator,\n",
    "        #permet de diviser ces données en lots plus petits pour l’entraînement.\n",
    "        steps_per_epoch=28709 // 64,\n",
    "        epochs=50,\n",
    "        validation_data=validation_generator,\n",
    "        validation_steps=7178 // 64)"
   ]
  },
  {
   "cell_type": "code",
   "execution_count": 17,
   "metadata": {},
   "outputs": [],
   "source": [
    "#architecture\n",
    "model_json = emotion_model.to_json()\n",
    "with open(\"emotion_model.json\", \"w\") as json_file:\n",
    "    json_file.write(model_json)"
   ]
  },
  {
   "cell_type": "code",
   "execution_count": 18,
   "metadata": {},
   "outputs": [],
   "source": [
    "#poids\n",
    "emotion_model.save_weights('emotion_model.h5')"
   ]
  }
 ],
 "metadata": {
  "kernelspec": {
   "display_name": "Python 3",
   "language": "python",
   "name": "python3"
  },
  "language_info": {
   "codemirror_mode": {
    "name": "ipython",
    "version": 3
   },
   "file_extension": ".py",
   "mimetype": "text/x-python",
   "name": "python",
   "nbconvert_exporter": "python",
   "pygments_lexer": "ipython3",
   "version": "3.10.7"
  }
 },
 "nbformat": 4,
 "nbformat_minor": 2
}
